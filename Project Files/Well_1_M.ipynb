{
 "cells": [
  {
   "cell_type": "code",
   "execution_count": 1,
   "id": "f8dd7511",
   "metadata": {},
   "outputs": [],
   "source": [
    "import torch\n",
    "import pandas as pd\n",
    "import numpy as np\n",
    "import seaborn as sns\n",
    "import matplotlib.pyplot as plt"
   ]
  },
  {
   "cell_type": "code",
   "execution_count": 2,
   "id": "07077dbb",
   "metadata": {},
   "outputs": [],
   "source": [
    "df = pd.read_csv(\"Well_1_M.csv\")"
   ]
  },
  {
   "cell_type": "code",
   "execution_count": 3,
   "id": "cdad72f7",
   "metadata": {},
   "outputs": [
    {
     "data": {
      "text/plain": [
       "<AxesSubplot:>"
      ]
     },
     "execution_count": 3,
     "metadata": {},
     "output_type": "execute_result"
    },
    {
     "data": {
      "image/png": "[encoded data removed]",
      "text/plain": [
       "<Figure size 432x288 with 1 Axes>"
      ]
     },
     "metadata": {
      "needs_background": "light"
     },
     "output_type": "display_data"
    }
   ],
   "source": [
    "df.Y.plot()"
   ]
  },
  {
   "cell_type": "code",
   "execution_count": 5,
   "id": "3be43b88",
   "metadata": {},
   "outputs": [],
   "source": [
    "import sys\n",
    "if not 'Informer2020' in sys.path:\n",
    "    sys.path+=['Informer2020']"
   ]
  },
  {
   "cell_type": "code",
   "execution_count": 3,
   "id": "3cc739c5",
   "metadata": {},
   "outputs": [],
   "source": [
    "df = pd.read_csv(\"./well_1.csv\")"
   ]
  },
  {
   "cell_type": "code",
   "execution_count": 4,
   "id": "777c712a",
   "metadata": {},
   "outputs": [
    {
     "data": {
      "text/html": [
       "<div>\n",
       "<style scoped>\n",
       "    .dataframe tbody tr th:only-of-type {\n",
       "        vertical-align: middle;\n",
       "    }\n",
       "\n",
       "    .dataframe tbody tr th {\n",
       "        vertical-align: top;\n",
       "    }\n",
       "\n",
       "    .dataframe thead th {\n",
       "        text-align: right;\n",
       "    }\n",
       "</style>\n",
       "<table border=\"1\" class=\"dataframe\">\n",
       "  <thead>\n",
       "    <tr style=\"text-align: right;\">\n",
       "      <th></th>\n",
       "      <th>DATEPRD</th>\n",
       "      <th>NPD_WELL_BORE_NAME</th>\n",
       "      <th>X1</th>\n",
       "      <th>Y</th>\n",
       "      <th>X3</th>\n",
       "      <th>X4</th>\n",
       "      <th>X5</th>\n",
       "      <th>X6</th>\n",
       "      <th>x7</th>\n",
       "      <th>X8</th>\n",
       "      <th>X9</th>\n",
       "      <th>X10</th>\n",
       "      <th>X11</th>\n",
       "      <th>X12</th>\n",
       "      <th>X13</th>\n",
       "    </tr>\n",
       "  </thead>\n",
       "  <tbody>\n",
       "    <tr>\n",
       "      <th>0</th>\n",
       "      <td>2014-04-07</td>\n",
       "      <td>15/9-F-1 C</td>\n",
       "      <td>0.0</td>\n",
       "      <td>0.000</td>\n",
       "      <td>0.000</td>\n",
       "      <td>0.000</td>\n",
       "      <td>0.0</td>\n",
       "      <td>0.00000</td>\n",
       "      <td>0.000</td>\n",
       "      <td>0.00</td>\n",
       "      <td>0.000</td>\n",
       "      <td>0.0</td>\n",
       "      <td>0</td>\n",
       "      <td>0.0</td>\n",
       "      <td>NaN</td>\n",
       "    </tr>\n",
       "    <tr>\n",
       "      <th>1</th>\n",
       "      <td>2014-04-08</td>\n",
       "      <td>15/9-F-1 C</td>\n",
       "      <td>0.0</td>\n",
       "      <td>NaN</td>\n",
       "      <td>NaN</td>\n",
       "      <td>NaN</td>\n",
       "      <td>0.0</td>\n",
       "      <td>1.00306</td>\n",
       "      <td>0.000</td>\n",
       "      <td>0.00</td>\n",
       "      <td>0.000</td>\n",
       "      <td>0.0</td>\n",
       "      <td>0</td>\n",
       "      <td>0.0</td>\n",
       "      <td>NaN</td>\n",
       "    </tr>\n",
       "    <tr>\n",
       "      <th>2</th>\n",
       "      <td>2014-04-09</td>\n",
       "      <td>15/9-F-1 C</td>\n",
       "      <td>0.0</td>\n",
       "      <td>NaN</td>\n",
       "      <td>NaN</td>\n",
       "      <td>NaN</td>\n",
       "      <td>0.0</td>\n",
       "      <td>0.97901</td>\n",
       "      <td>0.000</td>\n",
       "      <td>0.00</td>\n",
       "      <td>0.000</td>\n",
       "      <td>0.0</td>\n",
       "      <td>0</td>\n",
       "      <td>0.0</td>\n",
       "      <td>NaN</td>\n",
       "    </tr>\n",
       "    <tr>\n",
       "      <th>3</th>\n",
       "      <td>2014-04-10</td>\n",
       "      <td>15/9-F-1 C</td>\n",
       "      <td>0.0</td>\n",
       "      <td>NaN</td>\n",
       "      <td>NaN</td>\n",
       "      <td>NaN</td>\n",
       "      <td>0.0</td>\n",
       "      <td>0.54576</td>\n",
       "      <td>0.000</td>\n",
       "      <td>0.00</td>\n",
       "      <td>0.000</td>\n",
       "      <td>0.0</td>\n",
       "      <td>0</td>\n",
       "      <td>0.0</td>\n",
       "      <td>NaN</td>\n",
       "    </tr>\n",
       "    <tr>\n",
       "      <th>4</th>\n",
       "      <td>2014-04-11</td>\n",
       "      <td>15/9-F-1 C</td>\n",
       "      <td>0.0</td>\n",
       "      <td>310.376</td>\n",
       "      <td>96.876</td>\n",
       "      <td>277.278</td>\n",
       "      <td>0.0</td>\n",
       "      <td>1.21599</td>\n",
       "      <td>33.098</td>\n",
       "      <td>10.48</td>\n",
       "      <td>33.072</td>\n",
       "      <td>0.0</td>\n",
       "      <td>0</td>\n",
       "      <td>0.0</td>\n",
       "      <td>NaN</td>\n",
       "    </tr>\n",
       "  </tbody>\n",
       "</table>\n",
       "</div>"
      ],
      "text/plain": [
       "      DATEPRD NPD_WELL_BORE_NAME   X1        Y      X3       X4   X5       X6  \\\n",
       "0  2014-04-07         15/9-F-1 C  0.0    0.000   0.000    0.000  0.0  0.00000   \n",
       "1  2014-04-08         15/9-F-1 C  0.0      NaN     NaN      NaN  0.0  1.00306   \n",
       "2  2014-04-09         15/9-F-1 C  0.0      NaN     NaN      NaN  0.0  0.97901   \n",
       "3  2014-04-10         15/9-F-1 C  0.0      NaN     NaN      NaN  0.0  0.54576   \n",
       "4  2014-04-11         15/9-F-1 C  0.0  310.376  96.876  277.278  0.0  1.21599   \n",
       "\n",
       "       x7     X8      X9  X10 X11  X12  X13  \n",
       "0   0.000   0.00   0.000  0.0   0  0.0  NaN  \n",
       "1   0.000   0.00   0.000  0.0   0  0.0  NaN  \n",
       "2   0.000   0.00   0.000  0.0   0  0.0  NaN  \n",
       "3   0.000   0.00   0.000  0.0   0  0.0  NaN  \n",
       "4  33.098  10.48  33.072  0.0   0  0.0  NaN  "
      ]
     },
     "execution_count": 4,
     "metadata": {},
     "output_type": "execute_result"
    }
   ],
   "source": [
    "df.head()"
   ]
  },
  {
   "cell_type": "code",
   "execution_count": 5,
   "id": "5bdf35dd",
   "metadata": {},
   "outputs": [
    {
     "name": "stdout",
     "output_type": "stream",
     "text": [
      "<class 'pandas.core.frame.DataFrame'>\n",
      "RangeIndex: 746 entries, 0 to 745\n",
      "Data columns (total 15 columns):\n",
      " #   Column              Non-Null Count  Dtype  \n",
      "---  ------              --------------  -----  \n",
      " 0   DATEPRD             746 non-null    object \n",
      " 1   NPD_WELL_BORE_NAME  746 non-null    object \n",
      " 2   X1                  746 non-null    float64\n",
      " 3   Y                   743 non-null    float64\n",
      " 4   X3                  743 non-null    float64\n",
      " 5   X4                  743 non-null    float64\n",
      " 6   X5                  17 non-null     float64\n",
      " 7   X6                  746 non-null    float64\n",
      " 8   x7                  746 non-null    float64\n",
      " 9   X8                  746 non-null    float64\n",
      " 10  X9                  746 non-null    float64\n",
      " 11  X10                 746 non-null    float64\n",
      " 12  X11                 746 non-null    object \n",
      " 13  X12                 746 non-null    float64\n",
      " 14  X13                 0 non-null      float64\n",
      "dtypes: float64(12), object(3)\n",
      "memory usage: 87.5+ KB\n"
     ]
    }
   ],
   "source": [
    "df.info()"
   ]
  },
  {
   "cell_type": "code",
   "execution_count": 9,
   "id": "7b653ee2",
   "metadata": {},
   "outputs": [],
   "source": [
    "df.drop(['X5','X13'],axis=1,inplace=True)"
   ]
  },
  {
   "cell_type": "code",
   "execution_count": 10,
   "id": "f5a1df4e",
   "metadata": {},
   "outputs": [
    {
     "data": {
      "text/html": [
       "<div>\n",
       "<style scoped>\n",
       "    .dataframe tbody tr th:only-of-type {\n",
       "        vertical-align: middle;\n",
       "    }\n",
       "\n",
       "    .dataframe tbody tr th {\n",
       "        vertical-align: top;\n",
       "    }\n",
       "\n",
       "    .dataframe thead th {\n",
       "        text-align: right;\n",
       "    }\n",
       "</style>\n",
       "<table border=\"1\" class=\"dataframe\">\n",
       "  <thead>\n",
       "    <tr style=\"text-align: right;\">\n",
       "      <th></th>\n",
       "      <th>DATEPRD</th>\n",
       "      <th>NPD_WELL_BORE_NAME</th>\n",
       "      <th>X1</th>\n",
       "      <th>Y</th>\n",
       "      <th>X3</th>\n",
       "      <th>X4</th>\n",
       "      <th>X6</th>\n",
       "      <th>x7</th>\n",
       "      <th>X8</th>\n",
       "      <th>X9</th>\n",
       "      <th>X10</th>\n",
       "      <th>X11</th>\n",
       "      <th>X12</th>\n",
       "    </tr>\n",
       "  </thead>\n",
       "  <tbody>\n",
       "    <tr>\n",
       "      <th>0</th>\n",
       "      <td>2014-04-07</td>\n",
       "      <td>15/9-F-1 C</td>\n",
       "      <td>0.0</td>\n",
       "      <td>0.000</td>\n",
       "      <td>0.000</td>\n",
       "      <td>0.000</td>\n",
       "      <td>0.00000</td>\n",
       "      <td>0.000</td>\n",
       "      <td>0.00</td>\n",
       "      <td>0.000</td>\n",
       "      <td>0.0</td>\n",
       "      <td>0</td>\n",
       "      <td>0.0</td>\n",
       "    </tr>\n",
       "    <tr>\n",
       "      <th>1</th>\n",
       "      <td>2014-04-08</td>\n",
       "      <td>15/9-F-1 C</td>\n",
       "      <td>0.0</td>\n",
       "      <td>NaN</td>\n",
       "      <td>NaN</td>\n",
       "      <td>NaN</td>\n",
       "      <td>1.00306</td>\n",
       "      <td>0.000</td>\n",
       "      <td>0.00</td>\n",
       "      <td>0.000</td>\n",
       "      <td>0.0</td>\n",
       "      <td>0</td>\n",
       "      <td>0.0</td>\n",
       "    </tr>\n",
       "    <tr>\n",
       "      <th>2</th>\n",
       "      <td>2014-04-09</td>\n",
       "      <td>15/9-F-1 C</td>\n",
       "      <td>0.0</td>\n",
       "      <td>NaN</td>\n",
       "      <td>NaN</td>\n",
       "      <td>NaN</td>\n",
       "      <td>0.97901</td>\n",
       "      <td>0.000</td>\n",
       "      <td>0.00</td>\n",
       "      <td>0.000</td>\n",
       "      <td>0.0</td>\n",
       "      <td>0</td>\n",
       "      <td>0.0</td>\n",
       "    </tr>\n",
       "    <tr>\n",
       "      <th>3</th>\n",
       "      <td>2014-04-10</td>\n",
       "      <td>15/9-F-1 C</td>\n",
       "      <td>0.0</td>\n",
       "      <td>NaN</td>\n",
       "      <td>NaN</td>\n",
       "      <td>NaN</td>\n",
       "      <td>0.54576</td>\n",
       "      <td>0.000</td>\n",
       "      <td>0.00</td>\n",
       "      <td>0.000</td>\n",
       "      <td>0.0</td>\n",
       "      <td>0</td>\n",
       "      <td>0.0</td>\n",
       "    </tr>\n",
       "    <tr>\n",
       "      <th>4</th>\n",
       "      <td>2014-04-11</td>\n",
       "      <td>15/9-F-1 C</td>\n",
       "      <td>0.0</td>\n",
       "      <td>310.376</td>\n",
       "      <td>96.876</td>\n",
       "      <td>277.278</td>\n",
       "      <td>1.21599</td>\n",
       "      <td>33.098</td>\n",
       "      <td>10.48</td>\n",
       "      <td>33.072</td>\n",
       "      <td>0.0</td>\n",
       "      <td>0</td>\n",
       "      <td>0.0</td>\n",
       "    </tr>\n",
       "  </tbody>\n",
       "</table>\n",
       "</div>"
      ],
      "text/plain": [
       "      DATEPRD NPD_WELL_BORE_NAME   X1        Y      X3       X4       X6  \\\n",
       "0  2014-04-07         15/9-F-1 C  0.0    0.000   0.000    0.000  0.00000   \n",
       "1  2014-04-08         15/9-F-1 C  0.0      NaN     NaN      NaN  1.00306   \n",
       "2  2014-04-09         15/9-F-1 C  0.0      NaN     NaN      NaN  0.97901   \n",
       "3  2014-04-10         15/9-F-1 C  0.0      NaN     NaN      NaN  0.54576   \n",
       "4  2014-04-11         15/9-F-1 C  0.0  310.376  96.876  277.278  1.21599   \n",
       "\n",
       "       x7     X8      X9  X10 X11  X12  \n",
       "0   0.000   0.00   0.000  0.0   0  0.0  \n",
       "1   0.000   0.00   0.000  0.0   0  0.0  \n",
       "2   0.000   0.00   0.000  0.0   0  0.0  \n",
       "3   0.000   0.00   0.000  0.0   0  0.0  \n",
       "4  33.098  10.48  33.072  0.0   0  0.0  "
      ]
     },
     "execution_count": 10,
     "metadata": {},
     "output_type": "execute_result"
    }
   ],
   "source": [
    "df.head()"
   ]
  },
  {
   "cell_type": "code",
   "execution_count": 16,
   "id": "ae9046c7",
   "metadata": {},
   "outputs": [],
   "source": [
    "df.rename(columns={'DATEPRD':'date','x7':'X7'},inplace=True)"
   ]
  },
  {
   "cell_type": "code",
   "execution_count": 19,
   "id": "1e00f03a",
   "metadata": {},
   "outputs": [
    {
     "name": "stderr",
     "output_type": "stream",
     "text": [
      "<ipython-input-19-f25025d3fbf2>:1: FutureWarning: The default value of regex will change from True to False in a future version.\n",
      "  df.X11 = df.X11.str.replace('[^0-9]','').astype(dtype=np.float64)\n"
     ]
    }
   ],
   "source": [
    "df.X11 = df.X11.str.replace('[^0-9]','').astype(dtype=np.float64)"
   ]
  },
  {
   "cell_type": "code",
   "execution_count": 21,
   "id": "e0edbe68",
   "metadata": {},
   "outputs": [
    {
     "data": {
      "text/plain": [
       "0.0        316\n",
       "39859.0      2\n",
       "51385.0      2\n",
       "68466.0      2\n",
       "45666.0      1\n",
       "          ... \n",
       "34998.0      1\n",
       "30751.0      1\n",
       "8087.0       1\n",
       "32378.0      1\n",
       "89539.0      1\n",
       "Name: X11, Length: 428, dtype: int64"
      ]
     },
     "execution_count": 21,
     "metadata": {},
     "output_type": "execute_result"
    }
   ],
   "source": [
    "df.X11.value_counts()"
   ]
  },
  {
   "cell_type": "code",
   "execution_count": 23,
   "id": "d9edb1f7",
   "metadata": {},
   "outputs": [
    {
     "name": "stdout",
     "output_type": "stream",
     "text": [
      "<class 'pandas.core.frame.DataFrame'>\n",
      "RangeIndex: 746 entries, 0 to 745\n",
      "Data columns (total 13 columns):\n",
      " #   Column              Non-Null Count  Dtype  \n",
      "---  ------              --------------  -----  \n",
      " 0   date                746 non-null    object \n",
      " 1   NPD_WELL_BORE_NAME  746 non-null    object \n",
      " 2   X1                  746 non-null    float64\n",
      " 3   Y                   743 non-null    float64\n",
      " 4   X3                  743 non-null    float64\n",
      " 5   X4                  743 non-null    float64\n",
      " 6   X6                  746 non-null    float64\n",
      " 7   X7                  746 non-null    float64\n",
      " 8   X8                  746 non-null    float64\n",
      " 9   X9                  746 non-null    float64\n",
      " 10  X10                 746 non-null    float64\n",
      " 11  X11                 746 non-null    float64\n",
      " 12  X12                 746 non-null    float64\n",
      "dtypes: float64(11), object(2)\n",
      "memory usage: 75.9+ KB\n"
     ]
    }
   ],
   "source": [
    "df.info()"
   ]
  },
  {
   "cell_type": "code",
   "execution_count": 24,
   "id": "df424d76",
   "metadata": {},
   "outputs": [],
   "source": [
    "df.dropna(inplace=True)"
   ]
  },
  {
   "cell_type": "code",
   "execution_count": 26,
   "id": "8059b7c4",
   "metadata": {},
   "outputs": [
    {
     "name": "stdout",
     "output_type": "stream",
     "text": [
      "<class 'pandas.core.frame.DataFrame'>\n",
      "Int64Index: 743 entries, 0 to 745\n",
      "Data columns (total 13 columns):\n",
      " #   Column              Non-Null Count  Dtype  \n",
      "---  ------              --------------  -----  \n",
      " 0   date                743 non-null    object \n",
      " 1   NPD_WELL_BORE_NAME  743 non-null    object \n",
      " 2   X1                  743 non-null    float64\n",
      " 3   Y                   743 non-null    float64\n",
      " 4   X3                  743 non-null    float64\n",
      " 5   X4                  743 non-null    float64\n",
      " 6   X6                  743 non-null    float64\n",
      " 7   X7                  743 non-null    float64\n",
      " 8   X8                  743 non-null    float64\n",
      " 9   X9                  743 non-null    float64\n",
      " 10  X10                 743 non-null    float64\n",
      " 11  X11                 743 non-null    float64\n",
      " 12  X12                 743 non-null    float64\n",
      "dtypes: float64(11), object(2)\n",
      "memory usage: 81.3+ KB\n"
     ]
    }
   ],
   "source": [
    "df.info()"
   ]
  },
  {
   "cell_type": "code",
   "execution_count": 139,
   "id": "0e7415e8",
   "metadata": {},
   "outputs": [
    {
     "data": {
      "text/html": [
       "<div>\n",
       "<style scoped>\n",
       "    .dataframe tbody tr th:only-of-type {\n",
       "        vertical-align: middle;\n",
       "    }\n",
       "\n",
       "    .dataframe tbody tr th {\n",
       "        vertical-align: top;\n",
       "    }\n",
       "\n",
       "    .dataframe thead th {\n",
       "        text-align: right;\n",
       "    }\n",
       "</style>\n",
       "<table border=\"1\" class=\"dataframe\">\n",
       "  <thead>\n",
       "    <tr style=\"text-align: right;\">\n",
       "      <th></th>\n",
       "      <th>date</th>\n",
       "      <th>X1</th>\n",
       "      <th>Y</th>\n",
       "      <th>X3</th>\n",
       "      <th>X4</th>\n",
       "      <th>X6</th>\n",
       "      <th>X7</th>\n",
       "      <th>X8</th>\n",
       "      <th>X9</th>\n",
       "      <th>X10</th>\n",
       "      <th>X11</th>\n",
       "      <th>X12</th>\n",
       "    </tr>\n",
       "  </thead>\n",
       "  <tbody>\n",
       "    <tr>\n",
       "      <th>0</th>\n",
       "      <td>2014-04-07</td>\n",
       "      <td>0.0</td>\n",
       "      <td>0.000</td>\n",
       "      <td>0.000</td>\n",
       "      <td>0.000</td>\n",
       "      <td>0.00000</td>\n",
       "      <td>0.000</td>\n",
       "      <td>0.000</td>\n",
       "      <td>0.000</td>\n",
       "      <td>0.0</td>\n",
       "      <td>0.0</td>\n",
       "      <td>0.0</td>\n",
       "    </tr>\n",
       "    <tr>\n",
       "      <th>1</th>\n",
       "      <td>2014-04-11</td>\n",
       "      <td>0.0</td>\n",
       "      <td>310.376</td>\n",
       "      <td>96.876</td>\n",
       "      <td>277.278</td>\n",
       "      <td>1.21599</td>\n",
       "      <td>33.098</td>\n",
       "      <td>10.480</td>\n",
       "      <td>33.072</td>\n",
       "      <td>0.0</td>\n",
       "      <td>0.0</td>\n",
       "      <td>0.0</td>\n",
       "    </tr>\n",
       "    <tr>\n",
       "      <th>2</th>\n",
       "      <td>2014-04-12</td>\n",
       "      <td>0.0</td>\n",
       "      <td>303.501</td>\n",
       "      <td>96.923</td>\n",
       "      <td>281.447</td>\n",
       "      <td>3.08702</td>\n",
       "      <td>22.053</td>\n",
       "      <td>8.704</td>\n",
       "      <td>22.053</td>\n",
       "      <td>0.0</td>\n",
       "      <td>0.0</td>\n",
       "      <td>0.0</td>\n",
       "    </tr>\n",
       "    <tr>\n",
       "      <th>3</th>\n",
       "      <td>2014-04-13</td>\n",
       "      <td>0.0</td>\n",
       "      <td>303.535</td>\n",
       "      <td>96.959</td>\n",
       "      <td>276.032</td>\n",
       "      <td>1.96237</td>\n",
       "      <td>27.503</td>\n",
       "      <td>9.423</td>\n",
       "      <td>16.163</td>\n",
       "      <td>0.0</td>\n",
       "      <td>0.0</td>\n",
       "      <td>0.0</td>\n",
       "    </tr>\n",
       "    <tr>\n",
       "      <th>4</th>\n",
       "      <td>2014-04-14</td>\n",
       "      <td>0.0</td>\n",
       "      <td>303.782</td>\n",
       "      <td>96.969</td>\n",
       "      <td>282.787</td>\n",
       "      <td>0.00000</td>\n",
       "      <td>20.996</td>\n",
       "      <td>8.131</td>\n",
       "      <td>20.737</td>\n",
       "      <td>0.0</td>\n",
       "      <td>0.0</td>\n",
       "      <td>0.0</td>\n",
       "    </tr>\n",
       "  </tbody>\n",
       "</table>\n",
       "</div>"
      ],
      "text/plain": [
       "         date   X1        Y      X3       X4       X6      X7      X8      X9  \\\n",
       "0  2014-04-07  0.0    0.000   0.000    0.000  0.00000   0.000   0.000   0.000   \n",
       "1  2014-04-11  0.0  310.376  96.876  277.278  1.21599  33.098  10.480  33.072   \n",
       "2  2014-04-12  0.0  303.501  96.923  281.447  3.08702  22.053   8.704  22.053   \n",
       "3  2014-04-13  0.0  303.535  96.959  276.032  1.96237  27.503   9.423  16.163   \n",
       "4  2014-04-14  0.0  303.782  96.969  282.787  0.00000  20.996   8.131  20.737   \n",
       "\n",
       "   X10  X11  X12  \n",
       "0  0.0  0.0  0.0  \n",
       "1  0.0  0.0  0.0  \n",
       "2  0.0  0.0  0.0  \n",
       "3  0.0  0.0  0.0  \n",
       "4  0.0  0.0  0.0  "
      ]
     },
     "execution_count": 139,
     "metadata": {},
     "output_type": "execute_result"
    }
   ],
   "source": [
    "df.head()"
   ]
  },
  {
   "cell_type": "code",
   "execution_count": 28,
   "id": "07800c65",
   "metadata": {},
   "outputs": [],
   "source": [
    "df.drop('NPD_WELL_BORE_NAME',axis=1,inplace=True)"
   ]
  },
  {
   "cell_type": "code",
   "execution_count": 34,
   "id": "af4cbc9b",
   "metadata": {},
   "outputs": [],
   "source": [
    "df.reset_index(drop=True,inplace=True)"
   ]
  },
  {
   "cell_type": "code",
   "execution_count": 35,
   "id": "1d6fd654",
   "metadata": {},
   "outputs": [
    {
     "data": {
      "text/html": [
       "<div>\n",
       "<style scoped>\n",
       "    .dataframe tbody tr th:only-of-type {\n",
       "        vertical-align: middle;\n",
       "    }\n",
       "\n",
       "    .dataframe tbody tr th {\n",
       "        vertical-align: top;\n",
       "    }\n",
       "\n",
       "    .dataframe thead th {\n",
       "        text-align: right;\n",
       "    }\n",
       "</style>\n",
       "<table border=\"1\" class=\"dataframe\">\n",
       "  <thead>\n",
       "    <tr style=\"text-align: right;\">\n",
       "      <th></th>\n",
       "      <th>date</th>\n",
       "      <th>X1</th>\n",
       "      <th>Y</th>\n",
       "      <th>X3</th>\n",
       "      <th>X4</th>\n",
       "      <th>X6</th>\n",
       "      <th>X7</th>\n",
       "      <th>X8</th>\n",
       "      <th>X9</th>\n",
       "      <th>X10</th>\n",
       "      <th>X11</th>\n",
       "      <th>X12</th>\n",
       "    </tr>\n",
       "  </thead>\n",
       "  <tbody>\n",
       "    <tr>\n",
       "      <th>0</th>\n",
       "      <td>2014-04-07</td>\n",
       "      <td>0.0</td>\n",
       "      <td>0.000</td>\n",
       "      <td>0.000</td>\n",
       "      <td>0.000</td>\n",
       "      <td>0.00000</td>\n",
       "      <td>0.000</td>\n",
       "      <td>0.000</td>\n",
       "      <td>0.000</td>\n",
       "      <td>0.0</td>\n",
       "      <td>0.0</td>\n",
       "      <td>0.0</td>\n",
       "    </tr>\n",
       "    <tr>\n",
       "      <th>1</th>\n",
       "      <td>2014-04-11</td>\n",
       "      <td>0.0</td>\n",
       "      <td>310.376</td>\n",
       "      <td>96.876</td>\n",
       "      <td>277.278</td>\n",
       "      <td>1.21599</td>\n",
       "      <td>33.098</td>\n",
       "      <td>10.480</td>\n",
       "      <td>33.072</td>\n",
       "      <td>0.0</td>\n",
       "      <td>0.0</td>\n",
       "      <td>0.0</td>\n",
       "    </tr>\n",
       "    <tr>\n",
       "      <th>2</th>\n",
       "      <td>2014-04-12</td>\n",
       "      <td>0.0</td>\n",
       "      <td>303.501</td>\n",
       "      <td>96.923</td>\n",
       "      <td>281.447</td>\n",
       "      <td>3.08702</td>\n",
       "      <td>22.053</td>\n",
       "      <td>8.704</td>\n",
       "      <td>22.053</td>\n",
       "      <td>0.0</td>\n",
       "      <td>0.0</td>\n",
       "      <td>0.0</td>\n",
       "    </tr>\n",
       "    <tr>\n",
       "      <th>3</th>\n",
       "      <td>2014-04-13</td>\n",
       "      <td>0.0</td>\n",
       "      <td>303.535</td>\n",
       "      <td>96.959</td>\n",
       "      <td>276.032</td>\n",
       "      <td>1.96237</td>\n",
       "      <td>27.503</td>\n",
       "      <td>9.423</td>\n",
       "      <td>16.163</td>\n",
       "      <td>0.0</td>\n",
       "      <td>0.0</td>\n",
       "      <td>0.0</td>\n",
       "    </tr>\n",
       "    <tr>\n",
       "      <th>4</th>\n",
       "      <td>2014-04-14</td>\n",
       "      <td>0.0</td>\n",
       "      <td>303.782</td>\n",
       "      <td>96.969</td>\n",
       "      <td>282.787</td>\n",
       "      <td>0.00000</td>\n",
       "      <td>20.996</td>\n",
       "      <td>8.131</td>\n",
       "      <td>20.737</td>\n",
       "      <td>0.0</td>\n",
       "      <td>0.0</td>\n",
       "      <td>0.0</td>\n",
       "    </tr>\n",
       "  </tbody>\n",
       "</table>\n",
       "</div>"
      ],
      "text/plain": [
       "         date   X1        Y      X3       X4       X6      X7      X8      X9  \\\n",
       "0  2014-04-07  0.0    0.000   0.000    0.000  0.00000   0.000   0.000   0.000   \n",
       "1  2014-04-11  0.0  310.376  96.876  277.278  1.21599  33.098  10.480  33.072   \n",
       "2  2014-04-12  0.0  303.501  96.923  281.447  3.08702  22.053   8.704  22.053   \n",
       "3  2014-04-13  0.0  303.535  96.959  276.032  1.96237  27.503   9.423  16.163   \n",
       "4  2014-04-14  0.0  303.782  96.969  282.787  0.00000  20.996   8.131  20.737   \n",
       "\n",
       "   X10  X11  X12  \n",
       "0  0.0  0.0  0.0  \n",
       "1  0.0  0.0  0.0  \n",
       "2  0.0  0.0  0.0  \n",
       "3  0.0  0.0  0.0  \n",
       "4  0.0  0.0  0.0  "
      ]
     },
     "execution_count": 35,
     "metadata": {},
     "output_type": "execute_result"
    }
   ],
   "source": [
    "df.head()"
   ]
  },
  {
   "cell_type": "code",
   "execution_count": 138,
   "id": "b49ab9e3",
   "metadata": {},
   "outputs": [
    {
     "data": {
      "text/plain": [
       "(743, 12)"
      ]
     },
     "execution_count": 138,
     "metadata": {},
     "output_type": "execute_result"
    }
   ],
   "source": [
    "df.shape"
   ]
  },
  {
   "cell_type": "code",
   "execution_count": 36,
   "id": "b794b318",
   "metadata": {},
   "outputs": [],
   "source": [
    "# df.to_csv(\"Well_1_M.csv\",index=False)"
   ]
  },
  {
   "cell_type": "code",
   "execution_count": 37,
   "id": "ab585a78",
   "metadata": {},
   "outputs": [
    {
     "data": {
      "text/plain": [
       "<matplotlib.lines.Line2D at 0x1e89abb1760>"
      ]
     },
     "execution_count": 37,
     "metadata": {},
     "output_type": "execute_result"
    },
    {
     "data": {
      "image/png": "[encoded data removed]",
      "text/plain": [
       "<Figure size 720x576 with 1 Axes>"
      ]
     },
     "metadata": {},
     "output_type": "display_data"
    }
   ],
   "source": [
    "sns.set_style(\"darkgrid\")\n",
    "plt.style.use(\"seaborn-deep\")\n",
    "df.plot(x='date',y='Y',figsize=(10,8))\n",
    "plt.axhline(np.mean(df.Y),linestyle='--',color='r')"
   ]
  },
  {
   "cell_type": "code",
   "execution_count": 42,
   "id": "87f3f699",
   "metadata": {},
   "outputs": [
    {
     "data": {
      "image/png": "[encoded data removed]",
      "text/plain": [
       "<Figure size 720x576 with 1 Axes>"
      ]
     },
     "metadata": {},
     "output_type": "display_data"
    }
   ],
   "source": [
    "from statsmodels.graphics.tsaplots import plot_acf, plot_pacf\n",
    "fig,ax = plt.subplots(nrows=1,ncols=1,figsize=(10,8))\n",
    "ax = plot_acf(df[\"Y\"],ax=ax)"
   ]
  },
  {
   "cell_type": "code",
   "execution_count": 3,
   "id": "908cac10",
   "metadata": {},
   "outputs": [],
   "source": [
    "from utils.tools import dotdict\n",
    "from exp.exp_informer import Exp_Informer"
   ]
  },
  {
   "cell_type": "code",
   "execution_count": 6,
   "id": "2d53aa1b",
   "metadata": {},
   "outputs": [],
   "source": [
    "args = dotdict()\n",
    "\n",
    "args.model = 'informer' # model of experiment, options: [informer, informerstack, informerlight(TBD)]\n",
    "\n",
    "args.data = 'Custom' # data\n",
    "args.root_path = 'C:\\\\Users\\\\OMS\\\\lstf_project\\\\CustomDataset' # root path of data file\n",
    "args.data_path = 'Custom.csv' # data file\n",
    "args.features = 'MS' # forecasting task, options:[M, S, MS]; M:multivariate predict multivariate, S:univariate predict univariate, MS:multivariate predict univariate\n",
    "args.target = 'Y' # target feature in S or MS task\n",
    "args.freq = 'd' # freq for time features encoding, options:[s:secondly, t:minutely, h:hourly, d:daily, b:business days, w:weekly, m:monthly], you can also use more detailed freq like 15min or 3h\n",
    "args.checkpoints = 'C:\\\\Users\\\\OMS\\\\well_4' # location of model checkpoints\n",
    "\n",
    "args.seq_len = 96 # input sequence length of Informer encoder\n",
    "args.label_len = 48 # start token length of Informer decoder\n",
    "args.pred_len = 180 # prediction sequence length\n",
    "# Informer decoder input: concat[start token series(label_len), zero padding series(pred_len)]\n",
    "\n",
    "args.enc_in = 12 # encoder input size\n",
    "args.dec_in = 12 # decoder input size\n",
    "args.c_out = 12 # output size\n",
    "args.factor = 5 # probsparse attn factor\n",
    "args.d_model = 512 # dimension of model\n",
    "args.n_heads = 8 # num of heads\n",
    "args.e_layers = 2 # num of encoder layers\n",
    "args.d_layers = 1 # num of decoder layers\n",
    "args.d_ff = 2048 # dimension of fcn in model\n",
    "args.dropout = 0.05 # dropout\n",
    "args.attn = 'prob' # attention used in encoder, options:[prob, full]\n",
    "args.embed = 'timeF' # time features encoding, options:[timeF, fixed, learned]\n",
    "args.activation = 'gelu' # activation\n",
    "args.distil = True # whether to use distilling in encoder\n",
    "args.output_attention = False # whether to output attention in ecoder\n",
    "args.mix = True\n",
    "args.padding = 0\n",
    "args.freq = 'd'\n",
    "\n",
    "args.batch_size = 32 \n",
    "args.learning_rate = 0.0001\n",
    "args.loss = 'mse'\n",
    "args.lradj = 'type1'\n",
    "args.use_amp = False # whether to use automatic mixed precision training\n",
    "\n",
    "args.num_workers = 0\n",
    "args.itr = 1\n",
    "args.train_epochs = 6\n",
    "args.patience = 3\n",
    "args.des = 'exp'\n",
    "\n",
    "args.use_gpu = True if torch.cuda.is_available() else False\n",
    "args.gpu = 0\n",
    "\n",
    "args.use_multi_gpu = False\n",
    "args.devices = '0,1,2,3'"
   ]
  },
  {
   "cell_type": "code",
   "execution_count": 7,
   "id": "3f3ef2c2",
   "metadata": {},
   "outputs": [],
   "source": [
    "# Set augments by using data name\n",
    "data_parser = {\n",
    "    'Custom':{'data':'Custom.csv','T':'Y','M':[12,12,12],'S':[1,1,1],'MS':[12,12,1]}\n",
    "}\n",
    "if args.data in data_parser.keys():\n",
    "    data_info = data_parser[args.data]\n",
    "    args.data_path = data_info['data']\n",
    "    args.target = data_info['T']\n",
    "    args.enc_in, args.dec_in, args.c_out = data_info[args.features]"
   ]
  },
  {
   "cell_type": "code",
   "execution_count": 8,
   "id": "3b70957d",
   "metadata": {},
   "outputs": [],
   "source": [
    "args.detail_freq = args.freq\n",
    "args.freq = args.freq[-1:]"
   ]
  },
  {
   "cell_type": "code",
   "execution_count": 9,
   "id": "2ed467cd",
   "metadata": {},
   "outputs": [
    {
     "name": "stdout",
     "output_type": "stream",
     "text": [
      "Args in experiment:\n",
      "{'model': 'informer', 'data': 'Custom', 'root_path': 'C:\\\\Users\\\\OMS\\\\lstf_project\\\\CustomDataset', 'data_path': 'Custom.csv', 'features': 'MS', 'target': 'Y', 'freq': 'd', 'checkpoints': 'C:\\\\Users\\\\OMS\\\\well_4', 'seq_len': 96, 'label_len': 48, 'pred_len': 180, 'enc_in': 12, 'dec_in': 12, 'c_out': 1, 'factor': 5, 'd_model': 512, 'n_heads': 8, 'e_layers': 2, 'd_layers': 1, 'd_ff': 2048, 'dropout': 0.05, 'attn': 'prob', 'embed': 'timeF', 'activation': 'gelu', 'distil': True, 'output_attention': False, 'mix': True, 'padding': 0, 'batch_size': 32, 'learning_rate': 0.0001, 'loss': 'mse', 'lradj': 'type1', 'use_amp': False, 'num_workers': 0, 'itr': 1, 'train_epochs': 6, 'patience': 3, 'des': 'exp', 'use_gpu': True, 'gpu': 0, 'use_multi_gpu': False, 'devices': '0,1,2,3', 'detail_freq': 'd'}\n"
     ]
    }
   ],
   "source": [
    "print('Args in experiment:')\n",
    "print(args)"
   ]
  },
  {
   "cell_type": "code",
   "execution_count": 12,
   "id": "9ba456ef",
   "metadata": {},
   "outputs": [],
   "source": [
    "Exp = Exp_Informer"
   ]
  },
  {
   "cell_type": "code",
   "execution_count": 100,
   "id": "891f0fa5",
   "metadata": {},
   "outputs": [],
   "source": [
    "import gc\n",
    "\n",
    "gc.collect()\n",
    "\n",
    "torch.cuda.empty_cache()"
   ]
  },
  {
   "cell_type": "code",
   "execution_count": 101,
   "id": "fcbb32a0",
   "metadata": {},
   "outputs": [
    {
     "name": "stdout",
     "output_type": "stream",
     "text": [
      "Use GPU: cuda:0\n",
      ">>>>>>>start training : informer_Custom_ftMS_sl24_ll24_pl24_dm512_nh8_el2_dl1_df2048_atprob_fc5_ebtimeF_dtTrue_mxTrue_exp_0>>>>>>>>>>>>>>>>>>>>>>>>>>\n",
      "train 473\n",
      "val 52\n",
      "test 125\n",
      "Epoch: 1 cost time: 2.2553346157073975\n",
      "Epoch: 1, Steps: 14 | Train Loss: 0.7580288 Vali Loss: 0.5253422 Test Loss: 0.5138891\n",
      "Validation loss decreased (inf --> 0.525342).  Saving model ...\n",
      "Updating learning rate to 0.0001\n",
      "Epoch: 2 cost time: 1.5439362525939941\n",
      "Epoch: 2, Steps: 14 | Train Loss: 0.5094319 Vali Loss: 0.3934500 Test Loss: 0.3851364\n",
      "Validation loss decreased (0.525342 --> 0.393450).  Saving model ...\n",
      "Updating learning rate to 5e-05\n",
      "Epoch: 3 cost time: 1.5793068408966064\n",
      "Epoch: 3, Steps: 14 | Train Loss: 0.3814469 Vali Loss: 0.2642608 Test Loss: 0.3583353\n",
      "Validation loss decreased (0.393450 --> 0.264261).  Saving model ...\n",
      "Updating learning rate to 2.5e-05\n",
      "Epoch: 4 cost time: 1.5938122272491455\n",
      "Epoch: 4, Steps: 14 | Train Loss: 0.3287568 Vali Loss: 0.2565667 Test Loss: 0.4004728\n",
      "Validation loss decreased (0.264261 --> 0.256567).  Saving model ...\n",
      "Updating learning rate to 1.25e-05\n",
      "Epoch: 5 cost time: 1.7756474018096924\n",
      "Epoch: 5, Steps: 14 | Train Loss: 0.3069941 Vali Loss: 0.2651424 Test Loss: 0.3639572\n",
      "EarlyStopping counter: 1 out of 3\n",
      "Updating learning rate to 6.25e-06\n",
      "Epoch: 6 cost time: 1.678680181503296\n",
      "Epoch: 6, Steps: 14 | Train Loss: 0.2924089 Vali Loss: 0.2426532 Test Loss: 0.3715049\n",
      "Validation loss decreased (0.256567 --> 0.242653).  Saving model ...\n",
      "Updating learning rate to 3.125e-06\n",
      ">>>>>>>testing : informer_Custom_ftMS_sl24_ll24_pl24_dm512_nh8_el2_dl1_df2048_atprob_fc5_ebtimeF_dtTrue_mxTrue_exp_0<<<<<<<<<<<<<<<<<<<<<<<<<<<<<<<<<\n",
      "test 125\n",
      "test shape: (3, 32, 24, 1) (3, 32, 24, 1)\n",
      "test shape: (96, 24, 1) (96, 24, 1)\n",
      "mse:0.37199798226356506, mae:0.4758106470108032\n"
     ]
    }
   ],
   "source": [
    "for ii in range(args.itr):\n",
    "    # setting record of experiments\n",
    "    setting = '{}_{}_ft{}_sl{}_ll{}_pl{}_dm{}_nh{}_el{}_dl{}_df{}_at{}_fc{}_eb{}_dt{}_mx{}_{}_{}'.format(args.model, args.data, args.features, \n",
    "                args.seq_len, args.label_len, args.pred_len,\n",
    "                args.d_model, args.n_heads, args.e_layers, args.d_layers, args.d_ff, args.attn, args.factor, args.embed, args.distil, args.mix, args.des, ii)\n",
    "\n",
    "    # set experiments\n",
    "    exp = Exp(args)\n",
    "    \n",
    "    # train\n",
    "    print('>>>>>>>start training : {}>>>>>>>>>>>>>>>>>>>>>>>>>>'.format(setting))\n",
    "    exp.train(setting)\n",
    "    \n",
    "    # test\n",
    "    print('>>>>>>>testing : {}<<<<<<<<<<<<<<<<<<<<<<<<<<<<<<<<<'.format(setting))\n",
    "    exp.test(setting)\n",
    "\n",
    "    torch.cuda.empty_cache()"
   ]
  },
  {
   "cell_type": "code",
   "execution_count": 10,
   "id": "dc9f6c32",
   "metadata": {},
   "outputs": [],
   "source": [
    "import os\n",
    "\n",
    "# set saved model path\n",
    "setting = '.\\informer_Custom_ftMS_sl96_ll48_pl180_dm512_nh8_el2_dl1_df2048_atprob_fc5_ebtimeF_dtTrue_mxTrue_exp_0'\n",
    "# path = os.path.join(args.checkpoints,setting,'checkpoint.pth')"
   ]
  },
  {
   "cell_type": "code",
   "execution_count": 13,
   "id": "7a5c3f84",
   "metadata": {},
   "outputs": [
    {
     "name": "stdout",
     "output_type": "stream",
     "text": [
      "Use GPU: cuda:0\n",
      "pred 1\n"
     ]
    }
   ],
   "source": [
    "exp = Exp(args)\n",
    "\n",
    "exp.predict(setting, True)"
   ]
  },
  {
   "cell_type": "code",
   "execution_count": 14,
   "id": "ce2005ef",
   "metadata": {},
   "outputs": [
    {
     "data": {
      "text/plain": [
       "(1, 180, 1)"
      ]
     },
     "execution_count": 14,
     "metadata": {},
     "output_type": "execute_result"
    }
   ],
   "source": [
    "import numpy as np\n",
    "\n",
    "prediction = np.load('./results/'+setting+'/real_prediction.npy')\n",
    "\n",
    "prediction.shape"
   ]
  },
  {
   "cell_type": "code",
   "execution_count": 106,
   "id": "791e7ff9",
   "metadata": {},
   "outputs": [
    {
     "data": {
      "text/plain": [
       "array([[[ 0.62112087],\n",
       "        [ 0.69329625],\n",
       "        [ 0.813034  ],\n",
       "        [ 1.1664615 ],\n",
       "        [ 1.0811207 ],\n",
       "        [ 1.0601357 ],\n",
       "        [ 1.03427   ],\n",
       "        [ 0.8638033 ],\n",
       "        [ 0.6032738 ],\n",
       "        [ 0.3174639 ],\n",
       "        [ 0.59491485],\n",
       "        [ 0.2849388 ],\n",
       "        [ 0.7518615 ],\n",
       "        [ 0.01548897],\n",
       "        [ 0.18677062],\n",
       "        [-0.35062483],\n",
       "        [-0.26730314],\n",
       "        [-0.16706793],\n",
       "        [ 0.6164062 ],\n",
       "        [ 0.38286868],\n",
       "        [ 0.1656467 ],\n",
       "        [-0.31114525],\n",
       "        [-0.2633345 ],\n",
       "        [-0.14944687]]], dtype=float32)"
      ]
     },
     "execution_count": 106,
     "metadata": {},
     "output_type": "execute_result"
    }
   ],
   "source": [
    "prediction"
   ]
  },
  {
   "cell_type": "code",
   "execution_count": 15,
   "id": "f395d03c",
   "metadata": {},
   "outputs": [
    {
     "data": {
      "image/png": "[encoded data removed]",
      "text/plain": [
       "<Figure size 432x288 with 1 Axes>"
      ]
     },
     "metadata": {
      "needs_background": "light"
     },
     "output_type": "display_data"
    }
   ],
   "source": [
    "import matplotlib.pyplot as plt\n",
    "\n",
    "plt.figure()\n",
    "plt.plot(prediction[0,:,-1])\n",
    "plt.show()"
   ]
  },
  {
   "cell_type": "code",
   "execution_count": 16,
   "id": "178e47c8",
   "metadata": {},
   "outputs": [],
   "source": [
    "# here is the detailed code of function predict\n",
    "\n",
    "def predict(exp, setting, load=False):\n",
    "    pred_data, pred_loader = exp._get_data(flag='pred')\n",
    "        \n",
    "    if load:\n",
    "        path = os.path.join(exp.args.checkpoints, setting)\n",
    "        best_model_path = path+'/'+'checkpoint.pth'\n",
    "        exp.model.load_state_dict(torch.load(best_model_path))\n",
    "\n",
    "    exp.model.eval()\n",
    "        \n",
    "    preds = []\n",
    "        \n",
    "    for i, (batch_x,batch_y,batch_x_mark,batch_y_mark) in enumerate(pred_loader):\n",
    "        batch_x = batch_x.float().to(exp.device)\n",
    "        batch_y = batch_y.float()\n",
    "        batch_x_mark = batch_x_mark.float().to(exp.device)\n",
    "        batch_y_mark = batch_y_mark.float().to(exp.device)\n",
    "\n",
    "        # decoder input\n",
    "        if exp.args.padding==0:\n",
    "            dec_inp = torch.zeros([batch_y.shape[0], exp.args.pred_len, batch_y.shape[-1]]).float()\n",
    "        elif exp.args.padding==1:\n",
    "            dec_inp = torch.ones([batch_y.shape[0], exp.args.pred_len, batch_y.shape[-1]]).float()\n",
    "        else:\n",
    "            dec_inp = torch.zeros([batch_y.shape[0], exp.args.pred_len, batch_y.shape[-1]]).float()\n",
    "        dec_inp = torch.cat([batch_y[:,:exp.args.label_len,:], dec_inp], dim=1).float().to(exp.device)\n",
    "        # encoder - decoder\n",
    "        if exp.args.use_amp:\n",
    "            with torch.cuda.amp.autocast():\n",
    "                if exp.args.output_attention:\n",
    "                    outputs = exp.model(batch_x, batch_x_mark, dec_inp, batch_y_mark)[0]\n",
    "                else:\n",
    "                    outputs = exp.model(batch_x, batch_x_mark, dec_inp, batch_y_mark)\n",
    "        else:\n",
    "            if exp.args.output_attention:\n",
    "                outputs = exp.model(batch_x, batch_x_mark, dec_inp, batch_y_mark)[0]\n",
    "            else:\n",
    "                outputs = exp.model(batch_x, batch_x_mark, dec_inp, batch_y_mark)\n",
    "        f_dim = -1 if exp.args.features=='MS' else 0\n",
    "        batch_y = batch_y[:,-exp.args.pred_len:,f_dim:].to(exp.device)\n",
    "        \n",
    "        pred = outputs.detach().cpu().numpy()#.squeeze()\n",
    "        \n",
    "        preds.append(pred)\n",
    "\n",
    "    preds = np.array(preds)\n",
    "    preds = preds.reshape(-1, preds.shape[-2], preds.shape[-1])\n",
    "    \n",
    "    # result save\n",
    "    folder_path = './results/' + setting +'/'\n",
    "    if not os.path.exists(folder_path):\n",
    "        os.makedirs(folder_path)\n",
    "    \n",
    "    np.save(folder_path+'real_prediction.npy', preds)\n",
    "    \n",
    "    return preds"
   ]
  },
  {
   "cell_type": "code",
   "execution_count": 17,
   "id": "3acd713e",
   "metadata": {},
   "outputs": [
    {
     "name": "stdout",
     "output_type": "stream",
     "text": [
      "pred 1\n"
     ]
    }
   ],
   "source": [
    "prediction = predict(exp, setting, True)"
   ]
  },
  {
   "cell_type": "code",
   "execution_count": 11,
   "id": "557dbc8d",
   "metadata": {},
   "outputs": [],
   "source": [
    "prediction = np.load(r\"C:\\Users\\OMS\\lstf_project\\Finals\\well_1\\MS\\informer_Custom_ftMS_sl24_ll24_pl24_dm512_nh8_el2_dl1_df2048_atprob_fc5_ebtimeF_dtTrue_mxTrue_exp_0\\real_prediction.npy\")"
   ]
  },
  {
   "cell_type": "code",
   "execution_count": 12,
   "id": "20620809",
   "metadata": {},
   "outputs": [
    {
     "data": {
      "image/png": "[encoded data removed]",
      "text/plain": [
       "<Figure size 432x288 with 1 Axes>"
      ]
     },
     "metadata": {
      "needs_background": "light"
     },
     "output_type": "display_data"
    }
   ],
   "source": [
    "plt.figure()\n",
    "plt.plot(prediction[0,:,-1])\n",
    "plt.show()"
   ]
  },
  {
   "cell_type": "code",
   "execution_count": 19,
   "id": "eaf07972",
   "metadata": {},
   "outputs": [],
   "source": [
    "from data.data_loader import Dataset_Pred\n",
    "from torch.utils.data import DataLoader"
   ]
  },
  {
   "cell_type": "code",
   "execution_count": 20,
   "id": "22d59704",
   "metadata": {},
   "outputs": [],
   "source": [
    "Data = Dataset_Pred\n",
    "timeenc = 0 if args.embed!='timeF' else 1\n",
    "flag = 'pred'; shuffle_flag = False; drop_last = False; batch_size = 1\n",
    "\n",
    "freq = args.detail_freq\n",
    "\n",
    "data_set = Data(\n",
    "    root_path=args.root_path,\n",
    "    data_path=args.data_path,\n",
    "    flag=flag,\n",
    "    size=[args.seq_len, args.label_len, args.pred_len],\n",
    "    features=args.features,\n",
    "    target=args.target,\n",
    "    timeenc=timeenc,\n",
    "    freq=freq\n",
    ")\n",
    "data_loader = DataLoader(\n",
    "    data_set,\n",
    "    batch_size=batch_size,\n",
    "    shuffle=shuffle_flag,\n",
    "    num_workers=args.num_workers,\n",
    "    drop_last=drop_last)"
   ]
  },
  {
   "cell_type": "code",
   "execution_count": 21,
   "id": "7a1aead6",
   "metadata": {},
   "outputs": [
    {
     "data": {
      "text/plain": [
       "(1, 1)"
      ]
     },
     "execution_count": 21,
     "metadata": {},
     "output_type": "execute_result"
    }
   ],
   "source": [
    "len(data_set), len(data_loader)"
   ]
  },
  {
   "cell_type": "code",
   "execution_count": 137,
   "id": "1e25b186",
   "metadata": {},
   "outputs": [
    {
     "name": "stdout",
     "output_type": "stream",
     "text": [
      "batch index:  0\n",
      "Batch size:  torch.Size([1, 24, 11])\n",
      "Batch label:  tensor([[[ 9.0723e-01,  4.9729e-01,  2.6340e-01,  9.8419e-01, -7.5065e-01,\n",
      "           1.3749e+00, -6.4151e-01,  1.3357e-01,  2.3887e-01,  1.7282e+00,\n",
      "          -4.9270e-01],\n",
      "         [ 9.0723e-01,  4.9356e-01,  2.1941e-01,  9.8340e-01, -7.8367e-01,\n",
      "           1.3087e+00, -6.7665e-01,  1.9524e-01,  3.1088e-01,  1.5567e+00,\n",
      "          -5.7961e-01],\n",
      "         [ 9.0723e-01,  4.9123e-01,  1.7806e-01,  9.8129e-01, -8.0821e-01,\n",
      "           1.3124e+00, -6.8823e-01,  1.7347e-01,  2.8094e-01,  1.5230e+00,\n",
      "          -6.5439e-01],\n",
      "         [ 9.0723e-01,  4.8860e-01,  1.3776e-01,  9.8445e-01, -8.2445e-01,\n",
      "           1.0283e+00, -7.0418e-01,  2.1700e-01,  3.2665e-01,  1.4472e+00,\n",
      "          -7.1904e-01],\n",
      "         [ 9.0723e-01,  4.8611e-01,  1.1332e-01,  9.8120e-01, -8.4498e-01,\n",
      "           1.1138e+00, -7.2701e-01,  1.6622e-01,  2.8131e-01,  1.3685e+00,\n",
      "          -7.6967e-01],\n",
      "         [ 9.0723e-01,  4.8394e-01,  9.9573e-02,  9.8263e-01, -8.6636e-01,\n",
      "           1.2269e+00, -7.5238e-01,  1.4808e-01,  2.5548e-01,  1.3179e+00,\n",
      "          -8.0869e-01],\n",
      "         [ 9.0723e-01,  4.8363e-01,  8.6603e-02,  9.9614e-01, -8.8360e-01,\n",
      "           1.1980e+00, -7.7584e-01,  1.5534e-01,  2.5443e-01,  1.4556e+00,\n",
      "          -8.4230e-01],\n",
      "         [ 9.0723e-01,  4.8922e-01,  2.4133e-02,  1.0327e+00, -8.7671e-01,\n",
      "           1.2160e+00, -7.7899e-01,  2.8229e-01,  4.0862e-01,  1.4443e+00,\n",
      "          -9.0829e-01],\n",
      "         [ 6.3414e-01,  4.5492e-01,  8.0311e-03,  6.0621e-01, -8.6858e-01,\n",
      "           9.9891e-01, -7.5501e-01, -1.1308e-01, -1.4664e-02,  7.3902e-01,\n",
      "          -9.1850e-01],\n",
      "         [-1.1538e+00, -1.6495e-02, -3.8890e-02, -1.1675e+00, -5.1972e-01,\n",
      "          -8.0126e-01, -6.0565e-01, -8.6755e-01, -8.8645e-01, -7.8404e-01,\n",
      "          -6.0089e-01],\n",
      "         [-1.1538e+00, -2.0131e-01,  8.7634e-01, -1.1395e+00, -1.3190e+00,\n",
      "          -1.2717e+00, -9.1710e-01, -8.6755e-01, -8.8645e-01, -7.8404e-01,\n",
      "          -3.8025e-01],\n",
      "         [-1.1538e+00, -2.9379e-01,  1.2349e+00, -1.1369e+00, -1.5626e+00,\n",
      "          -1.4792e+00, -9.5155e-01, -8.6755e-01, -8.8645e-01, -7.8404e-01,\n",
      "          -2.1967e-01],\n",
      "         [-1.1538e+00, -3.5648e-01,  1.2107e+00, -1.1675e+00, -1.3846e+00,\n",
      "          -1.2941e+00, -1.0762e+00, -8.6755e-01, -8.8645e-01, -7.8404e-01,\n",
      "          -5.7822e-02],\n",
      "         [-1.1538e+00, -4.3345e-01,  1.3693e+00, -1.1675e+00, -1.4213e+00,\n",
      "          -1.2078e+00, -1.0713e+00, -8.6755e-01, -8.8645e-01, -7.8404e-01,\n",
      "           8.9220e-02],\n",
      "         [-1.1538e+00, -4.9738e-01,  1.5084e+00, -1.1675e+00, -1.4522e+00,\n",
      "          -1.1743e+00, -1.0526e+00, -8.6755e-01, -8.8645e-01, -7.8404e-01,\n",
      "           2.1944e-01],\n",
      "         [-1.1538e+00, -5.3012e-01,  1.5892e+00, -1.1675e+00, -1.4321e+00,\n",
      "          -1.1657e+00, -1.0621e+00, -8.6755e-01, -8.8645e-01, -7.8404e-01,\n",
      "           3.3593e-01],\n",
      "         [-1.1538e+00, -5.5138e-01,  1.6621e+00, -1.1675e+00, -1.4118e+00,\n",
      "          -1.1248e+00, -1.0702e+00, -8.6755e-01, -8.8645e-01, -7.8404e-01,\n",
      "           4.4311e-01],\n",
      "         [-1.1538e+00, -5.6736e-01,  1.7328e+00, -1.1675e+00, -1.3969e+00,\n",
      "          -1.1540e+00, -1.0759e+00, -8.6755e-01, -8.8645e-01, -7.8404e-01,\n",
      "           5.4213e-01],\n",
      "         [-1.1538e+00, -5.8272e-01,  1.7996e+00, -1.1675e+00, -1.3843e+00,\n",
      "          -1.1717e+00, -1.0762e+00, -8.6755e-01, -8.8645e-01, -7.8404e-01,\n",
      "           6.3392e-01],\n",
      "         [-1.1538e+00, -5.7838e-01,  1.9741e+00, -1.1675e+00, -1.4506e+00,\n",
      "          -1.1824e+00, -9.9139e-01, -8.6755e-01, -8.8645e-01, -7.8404e-01,\n",
      "           7.6798e-01],\n",
      "         [-1.1538e+00, -5.7326e-01,  1.9571e+00, -1.1675e+00, -1.2308e+00,\n",
      "          -1.1078e+00, -9.4286e-01, -8.6755e-01, -8.8645e-01, -7.8404e-01,\n",
      "           9.8276e-01],\n",
      "         [-1.1538e+00, -5.8148e-01,  2.2446e+00, -1.1571e+00, -1.3873e+00,\n",
      "          -1.1702e+00, -1.0170e+00, -8.6755e-01, -8.8645e-01, -7.8404e-01,\n",
      "           1.1531e+00],\n",
      "         [-1.1538e+00, -5.8878e-01,  2.0585e+00, -1.1675e+00, -1.0918e+00,\n",
      "          -1.1797e+00, -8.3449e-01, -8.6755e-01, -8.8645e-01, -7.8404e-01,\n",
      "           1.2505e+00],\n",
      "         [-1.1538e+00, -1.6282e+01, -5.3362e+00, -1.1675e+00, -1.6485e+00,\n",
      "          -1.5590e+00, -1.0784e+00, -8.6755e-01, -8.8645e-01, -7.8404e-01,\n",
      "          -8.0262e+00]]], dtype=torch.float64)\n"
     ]
    }
   ],
   "source": [
    "for a,b in enumerate(data_loader):\n",
    "    print('batch index: ', a)\n",
    "    print('Batch size: ', b[0].size())\n",
    "    print('Batch label: ', b[0])\n",
    "    break"
   ]
  },
  {
   "cell_type": "code",
   "execution_count": 6,
   "id": "80c35097",
   "metadata": {},
   "outputs": [
    {
     "data": {
      "text/plain": [
       "((96, 24, 1), (96, 24, 1))"
      ]
     },
     "execution_count": 6,
     "metadata": {},
     "output_type": "execute_result"
    }
   ],
   "source": [
    "# When we finished exp.train(setting) and exp.test(setting), we will get a trained model and the results of test experiment\n",
    "# The results of test experiment will be saved in ./results/{setting}/pred.npy (prediction of test dataset) and ./results/{setting}/true.npy (groundtruth of test dataset)\n",
    "\n",
    "preds = np.load(r\"C:\\Users\\OMS\\lstf_project\\Finals\\well_1\\MS\\informer_Custom_ftMS_sl24_ll24_pl24_dm512_nh8_el2_dl1_df2048_atprob_fc5_ebtimeF_dtTrue_mxTrue_exp_0\\pred.npy\")\n",
    "trues = np.load(r\"C:\\Users\\OMS\\lstf_project\\Finals\\well_1\\MS\\informer_Custom_ftMS_sl24_ll24_pl24_dm512_nh8_el2_dl1_df2048_atprob_fc5_ebtimeF_dtTrue_mxTrue_exp_0\\true.npy\")\n",
    "\n",
    "# [samples, pred_len, dimensions]\n",
    "preds.shape, trues.shape"
   ]
  },
  {
   "cell_type": "code",
   "execution_count": 7,
   "id": "9c84b062",
   "metadata": {},
   "outputs": [
    {
     "data": {
      "image/png": "[encoded data removed]",
      "text/plain": [
       "<Figure size 720x576 with 1 Axes>"
      ]
     },
     "metadata": {
      "needs_background": "light"
     },
     "output_type": "display_data"
    }
   ],
   "source": [
    "# draw OT prediction\n",
    "plt.figure(figsize=(10,8))\n",
    "plt.plot(trues[:,0,-1], label='GroundTruth')\n",
    "plt.plot(preds[:,0,-1], label='Prediction')\n",
    "plt.legend(loc=2)\n",
    "plt.show()"
   ]
  },
  {
   "cell_type": "code",
   "execution_count": 142,
   "id": "37409845",
   "metadata": {},
   "outputs": [
    {
     "data": {
      "text/plain": [
       "(96, 24, 1)"
      ]
     },
     "execution_count": 142,
     "metadata": {},
     "output_type": "execute_result"
    }
   ],
   "source": [
    "trues.shape"
   ]
  },
  {
   "cell_type": "code",
   "execution_count": 141,
   "id": "1479fc3c",
   "metadata": {},
   "outputs": [
    {
     "data": {
      "text/plain": [
       "array([-0.45946172, -0.5512445 , -0.6434556 , -0.71405524, -0.7657119 ,\n",
       "       -0.80814415, -0.88022625, -0.9406132 , -0.99319226, -1.0440912 ,\n",
       "       -1.073807  , -1.11871   , -1.1775815 , -1.1937243 , -0.7668979 ,\n",
       "       -0.5794448 , -0.41571167, -0.2774774 , -0.12517591,  0.02544541,\n",
       "        0.31594825,  0.6046721 ,  0.7784862 ,  0.8936265 ], dtype=float32)"
      ]
     },
     "execution_count": 141,
     "metadata": {},
     "output_type": "execute_result"
    }
   ],
   "source": [
    "trues[0,:,-1]"
   ]
  },
  {
   "cell_type": "code",
   "execution_count": 8,
   "id": "092d1284",
   "metadata": {},
   "outputs": [
    {
     "data": {
      "image/png": "[encoded data removed]",
      "text/plain": [
       "<Figure size 720x576 with 1 Axes>"
      ]
     },
     "metadata": {
      "needs_background": "light"
     },
     "output_type": "display_data"
    }
   ],
   "source": [
    "# draw OT prediction\n",
    "plt.figure(figsize=(10,8))\n",
    "plt.plot(trues[0,:,-1], label='GroundTruth')\n",
    "plt.plot(preds[0,:,-1], label='Prediction')\n",
    "plt.legend(loc=2)\n",
    "plt.show()"
   ]
  },
  {
   "cell_type": "code",
   "execution_count": null,
   "id": "7b07a9d5",
   "metadata": {},
   "outputs": [],
   "source": []
  }
 ],
 "metadata": {
  "kernelspec": {
   "display_name": "Python 3",
   "language": "python",
   "name": "python3"
  },
  "language_info": {
   "codemirror_mode": {
    "name": "ipython",
    "version": 3
   },
   "file_extension": ".py",
   "mimetype": "text/x-python",
   "name": "python",
   "nbconvert_exporter": "python",
   "pygments_lexer": "ipython3",
   "version": "3.8.8"
  }
 },
 "nbformat": 4,
 "nbformat_minor": 5
}
